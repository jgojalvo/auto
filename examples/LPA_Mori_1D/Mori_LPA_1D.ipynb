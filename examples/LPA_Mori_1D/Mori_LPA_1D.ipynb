{
 "metadata": {
  "name": "Mori_LPA_1D"
 },
 "nbformat": 3,
 "nbformat_minor": 0,
 "worksheets": [
  {
   "cells": [
    {
     "cell_type": "markdown",
     "metadata": {},
     "source": [
      "# AUTO 07p in the iPython Notebook"
     ]
    },
    {
     "cell_type": "markdown",
     "metadata": {},
     "source": [
      "## Load AUTO 07p Python Moduls"
     ]
    },
    {
     "cell_type": "markdown",
     "metadata": {},
     "source": [
      "Add `$AUTO_DIR/python` to `sys.path` to import the Python modules defined by `AUTO 07p`."
     ]
    },
    {
     "cell_type": "code",
     "collapsed": false,
     "input": [
      "import sys\n",
      "auto_directory = !echo $AUTO_DIR\n",
      "sys.path.append(auto_directory[0] + '/python')"
     ],
     "language": "python",
     "metadata": {},
     "outputs": []
    },
    {
     "cell_type": "markdown",
     "metadata": {},
     "source": [
      "Not all of these are necessary -- in fact we'll use just one of these modules for now --\n",
      "however it's good to see what Python modules have been written by the authors AUTO."
     ]
    },
    {
     "cell_type": "code",
     "collapsed": false,
     "input": [
      "import AUTOCommands as ac\n",
      "import AUTOclui as acl\n",
      "import interactiveBindings as ib\n",
      "import runAUTO as ra"
     ],
     "language": "python",
     "metadata": {},
     "outputs": []
    },
    {
     "cell_type": "markdown",
     "metadata": {},
     "source": [
      "## Start AUTO, Load System, and Run"
     ]
    },
    {
     "cell_type": "markdown",
     "metadata": {},
     "source": [
      "Start AUTO and catch the returned `runner` object."
     ]
    },
    {
     "cell_type": "code",
     "collapsed": false,
     "input": [
      "runner = ra.runAUTO()"
     ],
     "language": "python",
     "metadata": {},
     "outputs": []
    },
    {
     "cell_type": "markdown",
     "metadata": {},
     "source": [
      "`AUTOCommands` defines multiple methods that return *solution* objects. Method `load` is one of them."
     ]
    },
    {
     "cell_type": "code",
     "collapsed": false,
     "input": [
      "lpa = ac.load('lpa', runner=runner);"
     ],
     "language": "python",
     "metadata": {},
     "outputs": []
    },
    {
     "cell_type": "markdown",
     "metadata": {},
     "source": [
      "The above is shorthand for\n",
      "\n",
      "    ac.load(e='lpa', c='lpa', runner=runner)"
     ]
    },
    {
     "cell_type": "markdown",
     "metadata": {},
     "source": [
      "Going through the library code, it is hard to understand what the following does exactly. But for now this works."
     ]
    },
    {
     "cell_type": "code",
     "collapsed": true,
     "input": [
      "lpa.run()"
     ],
     "language": "python",
     "metadata": {},
     "outputs": []
    },
    {
     "cell_type": "markdown",
     "metadata": {},
     "source": [
      "Going through the output of the above `lpa.run()` command you'll notice at least two things:\n",
      "\n",
      "1. It would probably suffice to `os.system()` run the following commands (delete `lpa.o` in the current directory if you don't notice these command invocations at the top)\n",
      "\n",
      "```\n",
      "    gfortran -fopenmp -O -c lpa.f90 -o lpa.o\n",
      "    gfortran -fopenmp -O lpa.o -o lpa.exe /usr/users/cbu/waltherg/auto/07p/lib/*.o\n",
      "    ./lpa.exe\n",
      "```\n",
      "\n",
      "2. Some part of the `auto` toolchain seems broken by our use of the iPython Notebook\n",
      "\n",
      "```\n",
      "\n",
      "       596             raise AUTOExceptions.AUTORuntimeError(\"Error running AUTO\")\n",
      "\n",
      "       597 \n",
      "\n",
      "       598 def test():\n",
      "\n",
      "   AUTORuntimeError: Error running AUTO\n",
      "```\n",
      "\n",
      "**Despite the fact that something seems broken, we notice that `auto` still ran and created three output files.**"
     ]
    },
    {
     "cell_type": "markdown",
     "metadata": {},
     "source": [
      "## Read Output Files and Plot Solution Branches"
     ]
    },
    {
     "cell_type": "code",
     "collapsed": false,
     "input": [
      "!ls"
     ],
     "language": "python",
     "metadata": {},
     "outputs": []
    },
    {
     "cell_type": "markdown",
     "metadata": {},
     "source": [
      "The `b.lpa` file seems to hold all branches and some `auto`-specific info at the top of the file.\n",
      "\n",
      "Let's import a few tools that will come in handy reading `b.lpa` and plotting the branches described therein."
     ]
    },
    {
     "cell_type": "code",
     "collapsed": false,
     "input": [
      "import pandas as pd\n",
      "from matplotlib import pylab as pl"
     ],
     "language": "python",
     "metadata": {},
     "outputs": []
    },
    {
     "cell_type": "markdown",
     "metadata": {},
     "source": [
      "### Parse `b.lpa`"
     ]
    },
    {
     "cell_type": "code",
     "collapsed": false,
     "input": [
      "content = None\n",
      "with open('b.lpa', 'r') as f:\n",
      "    content = f.readlines()"
     ],
     "language": "python",
     "metadata": {},
     "outputs": []
    },
    {
     "cell_type": "markdown",
     "metadata": {},
     "source": [
      "Line 15 (zero-indexed) onwards are the branches."
     ]
    },
    {
     "cell_type": "code",
     "collapsed": false,
     "input": [
      "content[15:20]"
     ],
     "language": "python",
     "metadata": {},
     "outputs": []
    },
    {
     "cell_type": "code",
     "collapsed": false,
     "input": [
      "content_csv = [[el for el in content[15].split(' ') if len(el) > 0 and el != '\\n']]\n",
      "content_csv[0][0] = 'branch'\n",
      "column_names = content_csv[0]"
     ],
     "language": "python",
     "metadata": {},
     "outputs": []
    },
    {
     "cell_type": "markdown",
     "metadata": {},
     "source": [
      "These are our column names found in `content[15]`."
     ]
    },
    {
     "cell_type": "code",
     "collapsed": false,
     "input": [
      "column_names"
     ],
     "language": "python",
     "metadata": {},
     "outputs": []
    },
    {
     "cell_type": "code",
     "collapsed": false,
     "input": [
      "for line in content:\n",
      "    dummy = line.split(' ')\n",
      "    dummy = [el for el in dummy if len(el) > 0 and el != '\\n']\n",
      "    if dummy[0] == '0':\n",
      "        continue\n",
      "        \n",
      "    for el_i, el in enumerate(dummy):\n",
      "        if el_i < 4:\n",
      "            dummy[el_i] = int(el)\n",
      "        else:\n",
      "            dummy[el_i] = float(el)\n",
      "            \n",
      "    if len(dummy) > 1:\n",
      "        content_csv.append(dummy)"
     ],
     "language": "python",
     "metadata": {},
     "outputs": []
    },
    {
     "cell_type": "markdown",
     "metadata": {},
     "source": [
      "Load the resulting list of lists into a `pandas` `DataFrame`."
     ]
    },
    {
     "cell_type": "code",
     "collapsed": false,
     "input": [
      "df = pd.DataFrame(content_csv, columns=column_names)"
     ],
     "language": "python",
     "metadata": {},
     "outputs": []
    },
    {
     "cell_type": "code",
     "collapsed": false,
     "input": [
      "df"
     ],
     "language": "python",
     "metadata": {},
     "outputs": []
    },
    {
     "cell_type": "markdown",
     "metadata": {},
     "source": [
      "### Plot branches in `b.lpa`"
     ]
    },
    {
     "cell_type": "markdown",
     "metadata": {},
     "source": [
      "Plotting branches is easy now."
     ]
    },
    {
     "cell_type": "code",
     "collapsed": false,
     "input": [
      "scatter(df[df['branch'] == 1].tot,df[df['branch'] == 1].aL)\n",
      "scatter(df[df['branch'] == 2].tot,df[df['branch'] == 2].aL)"
     ],
     "language": "python",
     "metadata": {},
     "outputs": []
    },
    {
     "cell_type": "markdown",
     "metadata": {},
     "source": [
      "### Stability Data and Bifurcation Points"
     ]
    },
    {
     "cell_type": "markdown",
     "metadata": {},
     "source": [
      "The above bifurcation plot is close to the one shown in [Figure 3](http://link.springer.com/static-content/images/354/art%253A10.1007%252Fs11538-012-9766-5/MediaObjects/11538_2012_9766_Fig3_HTML.gif) of a [previous article](http://link.springer.com/article/10.1007%2Fs11538-012-9766-5/fulltext.html) where the same analysis was done on the same system.\n",
      "\n",
      "What's still missing are stability data (eigenvalues along the solution branches) and bifurcation points.\n",
      "\n",
      "The file `d.lpa` generated by `AUTO` seems to contain that information."
     ]
    },
    {
     "cell_type": "code",
     "collapsed": false,
     "input": [
      "dlpa = None\n",
      "with open('d.lpa', 'r') as f:\n",
      "    dlpa = f.readlines()"
     ],
     "language": "python",
     "metadata": {},
     "outputs": []
    },
    {
     "cell_type": "code",
     "collapsed": false,
     "input": [
      "dlpa[:20]"
     ],
     "language": "python",
     "metadata": {},
     "outputs": []
    },
    {
     "cell_type": "markdown",
     "metadata": {},
     "source": [
      "More about this later ..."
     ]
    }
   ],
   "metadata": {}
  }
 ]
}